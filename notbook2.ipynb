{
 "cells": [
  {
   "cell_type": "markdown",
   "metadata": {},
   "source": [
    "## Artist Recognition Project by Mohamed Alaa Gaida and Nadine Fakhet\n",
    "\n",
    "the project goal is to identify artist for a given painting among 18 popular artists"
   ]
  },
  {
   "cell_type": "code",
   "execution_count": 88,
   "metadata": {},
   "outputs": [],
   "source": [
    "# Importing the Keras libraries and packages\n",
    "from keras.models import Sequential\n",
    "from keras.layers import Conv2D\n",
    "from keras.layers import MaxPooling2D\n",
    "from keras.layers import Flatten\n",
    "from keras.layers import Dense\n",
    "from keras.layers import Dropout"
   ]
  },
  {
   "cell_type": "markdown",
   "metadata": {},
   "source": [
    "## Data preparation and cleaning\n",
    "\n",
    "our data was downloaded from wikiart using the wikiart API using this code \"https://github.com/lucasdavid/wikiart\"\n",
    "we only downloaded data for those artists :\n",
    "\n",
    "-Camille Pissarro <br>\n",
    "-Childe Hassam<br>\n",
    "-Claude Monet<br>\n",
    "-Edgar Degas<br>\n",
    "-Eugene Boudin<br>\n",
    "-Henri Matisse<br>\n",
    "-Ilya Repin<br>\n",
    "-Ivan Aivazovsky<br>\n",
    "-John Singer Sargent<br>\n",
    "-Martiros Sarian<br>\n",
    "-Nicholas Roerich<br>\n",
    "-Pablo Ppicasso<br>\n",
    "-Paul Cezanne<br>\n",
    "-Pierre-Auguste Renoir<br>\n",
    "-Pyotr Konchalovsky<br>\n",
    "-Rembrandt<br>\n",
    "-Salvador Dali<br>\n",
    "-Vincent van Gogh<br>"
   ]
  },
  {
   "cell_type": "markdown",
   "metadata": {},
   "source": [
    "### cleaning the data (resizing the images and moving them)"
   ]
  },
  {
   "cell_type": "code",
   "execution_count": 90,
   "metadata": {},
   "outputs": [],
   "source": [
    "from os import listdir\n",
    "from os.path import isfile, join\n",
    "import os\n",
    "import shutil\n",
    "import PIL\n",
    "from PIL import Image\n",
    "\n",
    "dirs = \"images/\"\n",
    "basewidth = 256\n",
    "alldirs = [dirs + f + '/' for f in listdir(dirs)]\n",
    "for d in alldirs :\n",
    "    tmp = [d + s + \"/\" for s in listdir(d) if os.path.isdir(d + s + \"/\")]\n",
    "    for x in tmp :\n",
    "        for y in listdir(x) :\n",
    "            try :#resize code\n",
    "                img = Image.open(x+y)\n",
    "                wpercent = (basewidth / float(img.size[0]))\n",
    "                hsize = int((float(img.size[1]) * float(wpercent)))\n",
    "                img = img.resize((basewidth, hsize), PIL.Image.ANTIALIAS)\n",
    "                img.save(x+y)\n",
    "                #resize code end\n",
    "                shutil.move(x+y, d)\n",
    "            except IOError :\n",
    "                print(ValueError)\n",
    "                os.remove(x+y)\n",
    "        shutil.rmtree(x)"
   ]
  },
  {
   "cell_type": "markdown",
   "metadata": {},
   "source": [
    "# The model"
   ]
  },
  {
   "cell_type": "code",
   "execution_count": 92,
   "metadata": {},
   "outputs": [],
   "source": [
    "classifier = Sequential()\n",
    "\n",
    "classifier.add(Conv2D(32, (3, 3), input_shape = (128, 128, 3), activation = 'relu'))\n",
    "classifier.add(MaxPooling2D(pool_size = (2, 2)))\n",
    "\n",
    "classifier.add(Conv2D(32, (3, 3), activation = 'relu'))\n",
    "classifier.add(MaxPooling2D(pool_size = (2, 2)))\n",
    "\n",
    "classifier.add(Flatten())\n",
    "classifier.add(Dense(units = 128, activation = 'relu'))\n",
    "classifier.add(Dense(units = 18, activation = 'softmax'))\n",
    "\n",
    "classifier.compile(optimizer = 'adam', loss = 'categorical_crossentropy', metrics = ['accuracy'])\n"
   ]
  },
  {
   "cell_type": "code",
   "execution_count": 93,
   "metadata": {},
   "outputs": [
    {
     "name": "stdout",
     "output_type": "stream",
     "text": [
      "_________________________________________________________________\n",
      "Layer (type)                 Output Shape              Param #   \n",
      "=================================================================\n",
      "conv2d_1 (Conv2D)            (None, 126, 126, 32)      896       \n",
      "_________________________________________________________________\n",
      "max_pooling2d_1 (MaxPooling2 (None, 63, 63, 32)        0         \n",
      "_________________________________________________________________\n",
      "conv2d_2 (Conv2D)            (None, 61, 61, 32)        9248      \n",
      "_________________________________________________________________\n",
      "max_pooling2d_2 (MaxPooling2 (None, 30, 30, 32)        0         \n",
      "_________________________________________________________________\n",
      "flatten_1 (Flatten)          (None, 28800)             0         \n",
      "_________________________________________________________________\n",
      "dense_1 (Dense)              (None, 128)               3686528   \n",
      "_________________________________________________________________\n",
      "dense_2 (Dense)              (None, 18)                2322      \n",
      "=================================================================\n",
      "Total params: 3,698,994\n",
      "Trainable params: 3,698,994\n",
      "Non-trainable params: 0\n",
      "_________________________________________________________________\n"
     ]
    }
   ],
   "source": [
    "classifier.summary()"
   ]
  },
  {
   "cell_type": "code",
   "execution_count": 94,
   "metadata": {},
   "outputs": [
    {
     "name": "stdout",
     "output_type": "stream",
     "text": [
      "Found 8198 images belonging to 18 classes.\n",
      "Found 899 images belonging to 18 classes.\n"
     ]
    }
   ],
   "source": [
    "from keras.preprocessing.image import ImageDataGenerator\n",
    "\n",
    "train_datagen = ImageDataGenerator(rescale = 1./255,\n",
    "                                   shear_range = 0.2,\n",
    "                                   zoom_range = 0.2,\n",
    "                                   horizontal_flip = True)\n",
    "\n",
    "test_datagen = ImageDataGenerator(rescale = 1./255)\n",
    "\n",
    "training_set = train_datagen.flow_from_directory('data/train/',\n",
    "                                                 target_size = (128, 128),\n",
    "                                                 batch_size = 32,\n",
    "                                                 class_mode = 'categorical')\n",
    "\n",
    "test_set = test_datagen.flow_from_directory('data/test/',\n",
    "                                            target_size = (128, 128),\n",
    "                                            batch_size = 32,\n",
    "                                            class_mode = 'categorical')"
   ]
  },
  {
   "cell_type": "code",
   "execution_count": 5,
   "metadata": {},
   "outputs": [
    {
     "name": "stdout",
     "output_type": "stream",
     "text": [
      "Epoch 1/20\n",
      "257/256 [==============================] - 175s 680ms/step - loss: 2.5845 - acc: 0.2047 - val_loss: 2.3499 - val_acc: 0.2836\n",
      "Epoch 2/20\n",
      "257/256 [==============================] - 71s 275ms/step - loss: 2.1204 - acc: 0.3517 - val_loss: 2.1295 - val_acc: 0.3448\n",
      "Epoch 3/20\n",
      "257/256 [==============================] - 72s 278ms/step - loss: 1.9444 - acc: 0.3995 - val_loss: 2.3059 - val_acc: 0.3226\n",
      "Epoch 4/20\n",
      "257/256 [==============================] - 70s 271ms/step - loss: 1.8051 - acc: 0.4396 - val_loss: 1.9139 - val_acc: 0.4205\n",
      "Epoch 5/20\n",
      "257/256 [==============================] - 70s 274ms/step - loss: 1.7242 - acc: 0.4667 - val_loss: 2.1184 - val_acc: 0.3615\n",
      "Epoch 6/20\n",
      "257/256 [==============================] - 73s 284ms/step - loss: 1.6482 - acc: 0.4820 - val_loss: 2.0185 - val_acc: 0.3982\n",
      "Epoch 7/20\n",
      "257/256 [==============================] - 70s 271ms/step - loss: 1.5597 - acc: 0.5111 - val_loss: 1.9058 - val_acc: 0.4238\n",
      "Epoch 8/20\n",
      "257/256 [==============================] - 69s 270ms/step - loss: 1.4788 - acc: 0.5409 - val_loss: 1.9959 - val_acc: 0.4438\n",
      "Epoch 9/20\n",
      "257/256 [==============================] - 70s 271ms/step - loss: 1.4253 - acc: 0.5467 - val_loss: 2.0506 - val_acc: 0.4316\n",
      "Epoch 10/20\n",
      "257/256 [==============================] - 70s 271ms/step - loss: 1.3590 - acc: 0.5677 - val_loss: 2.1201 - val_acc: 0.4082\n",
      "Epoch 11/20\n",
      "257/256 [==============================] - 70s 272ms/step - loss: 1.3124 - acc: 0.5863 - val_loss: 2.0172 - val_acc: 0.4505\n",
      "Epoch 12/20\n",
      "257/256 [==============================] - 70s 272ms/step - loss: 1.2483 - acc: 0.6072 - val_loss: 2.1407 - val_acc: 0.4082\n",
      "Epoch 13/20\n",
      "257/256 [==============================] - 70s 271ms/step - loss: 1.2118 - acc: 0.6202 - val_loss: 2.1917 - val_acc: 0.4349\n",
      "Epoch 14/20\n",
      "257/256 [==============================] - 70s 271ms/step - loss: 1.1545 - acc: 0.6416 - val_loss: 2.2499 - val_acc: 0.4194\n",
      "Epoch 15/20\n",
      "257/256 [==============================] - 70s 272ms/step - loss: 1.0825 - acc: 0.6592 - val_loss: 2.6837 - val_acc: 0.3693\n",
      "Epoch 16/20\n",
      "257/256 [==============================] - 73s 284ms/step - loss: 1.0490 - acc: 0.6650 - val_loss: 2.0746 - val_acc: 0.4572\n",
      "Epoch 17/20\n",
      "257/256 [==============================] - 83s 322ms/step - loss: 1.0227 - acc: 0.6778 - val_loss: 2.4411 - val_acc: 0.4038\n",
      "Epoch 18/20\n",
      "257/256 [==============================] - 73s 283ms/step - loss: 0.9753 - acc: 0.6954 - val_loss: 2.1686 - val_acc: 0.4483\n",
      "Epoch 19/20\n",
      "257/256 [==============================] - 72s 280ms/step - loss: 0.9286 - acc: 0.7058 - val_loss: 2.2890 - val_acc: 0.4449\n",
      "Epoch 20/20\n",
      "257/256 [==============================] - 70s 272ms/step - loss: 0.8973 - acc: 0.7168 - val_loss: 2.1415 - val_acc: 0.4605\n"
     ]
    },
    {
     "data": {
      "text/plain": [
       "<keras.callbacks.History at 0x7f3cc7a3d320>"
      ]
     },
     "execution_count": 5,
     "metadata": {},
     "output_type": "execute_result"
    }
   ],
   "source": [
    "classifier.fit_generator(training_set,\n",
    "                         steps_per_epoch = 8198/32,\n",
    "                         epochs = 20,\n",
    "                         validation_data = test_set,\n",
    "                         validation_steps = 899/32)"
   ]
  },
  {
   "cell_type": "code",
   "execution_count": 6,
   "metadata": {},
   "outputs": [],
   "source": [
    "classifier.save_weights(\"weightprojectpaint.h5\")"
   ]
  },
  {
   "cell_type": "code",
   "execution_count": 95,
   "metadata": {},
   "outputs": [],
   "source": [
    "classifier.load_weights(\"weightprojectpaint.h5\")"
   ]
  },
  {
   "cell_type": "markdown",
   "metadata": {},
   "source": [
    "## Model 2\n",
    "changing the batch size to 64"
   ]
  },
  {
   "cell_type": "code",
   "execution_count": 98,
   "metadata": {},
   "outputs": [],
   "source": [
    "classifier2 = Sequential()\n",
    "\n",
    "classifier2.add(Conv2D(32, (3, 3), input_shape = (128, 128, 3), activation = 'relu'))\n",
    "classifier2.add(MaxPooling2D(pool_size = (2, 2)))\n",
    "\n",
    "classifier2.add(Conv2D(32, (3, 3), activation = 'relu'))\n",
    "classifier2.add(MaxPooling2D(pool_size = (2, 2)))\n",
    "\n",
    "classifier2.add(Flatten())\n",
    "\n",
    "classifier2.add(Dense(units = 128, activation = 'relu'))\n",
    "classifier2.add(Dense(units = 18, activation = 'softmax'))\n",
    "\n",
    "classifier2.compile(optimizer = 'adam', loss = 'categorical_crossentropy', metrics = ['accuracy'])"
   ]
  },
  {
   "cell_type": "code",
   "execution_count": 99,
   "metadata": {},
   "outputs": [
    {
     "name": "stdout",
     "output_type": "stream",
     "text": [
      "Found 8198 images belonging to 18 classes.\n",
      "Found 899 images belonging to 18 classes.\n"
     ]
    }
   ],
   "source": [
    "from keras.preprocessing.image import ImageDataGenerator\n",
    "\n",
    "train_datagen = ImageDataGenerator(rescale = 1./255,\n",
    "                                   shear_range = 0.2,\n",
    "                                   zoom_range = 0.2,\n",
    "                                   horizontal_flip = True)\n",
    "\n",
    "test_datagen = ImageDataGenerator(rescale = 1./255)\n",
    "\n",
    "training_set = train_datagen.flow_from_directory('data/train/',\n",
    "                                                 target_size = (128, 128),\n",
    "                                                 batch_size = 64,\n",
    "                                                 class_mode = 'categorical')\n",
    "\n",
    "test_set = test_datagen.flow_from_directory('data/test/',\n",
    "                                            target_size = (128, 128),\n",
    "                                            batch_size = 64,\n",
    "                                            class_mode = 'categorical')"
   ]
  },
  {
   "cell_type": "code",
   "execution_count": 100,
   "metadata": {},
   "outputs": [
    {
     "name": "stdout",
     "output_type": "stream",
     "text": [
      "Epoch 1/20\n",
      "129/128 [==============================] - 165s 1s/step - loss: 2.5346 - acc: 0.2075 - val_loss: 2.5793 - val_acc: 0.2069\n",
      "Epoch 2/20\n",
      "129/128 [==============================] - 63s 492ms/step - loss: 2.1640 - acc: 0.3369 - val_loss: 2.1149 - val_acc: 0.3593\n",
      "Epoch 3/20\n",
      "129/128 [==============================] - 59s 459ms/step - loss: 2.0040 - acc: 0.3811 - val_loss: 2.4322 - val_acc: 0.3003\n",
      "Epoch 4/20\n",
      "129/128 [==============================] - 59s 460ms/step - loss: 1.9045 - acc: 0.4149 - val_loss: 2.0192 - val_acc: 0.3915\n",
      "Epoch 5/20\n",
      "129/128 [==============================] - 60s 468ms/step - loss: 1.7942 - acc: 0.4465 - val_loss: 2.1460 - val_acc: 0.3504\n",
      "Epoch 6/20\n",
      "129/128 [==============================] - 60s 466ms/step - loss: 1.7120 - acc: 0.4713 - val_loss: 1.8983 - val_acc: 0.4238\n",
      "Epoch 7/20\n",
      "129/128 [==============================] - 60s 469ms/step - loss: 1.6459 - acc: 0.4844 - val_loss: 2.0375 - val_acc: 0.4016\n",
      "Epoch 8/20\n",
      "129/128 [==============================] - 64s 495ms/step - loss: 1.5667 - acc: 0.5073 - val_loss: 1.9359 - val_acc: 0.4305\n",
      "Epoch 9/20\n",
      "129/128 [==============================] - 64s 500ms/step - loss: 1.4841 - acc: 0.5366 - val_loss: 2.0148 - val_acc: 0.4149\n",
      "Epoch 10/20\n",
      "129/128 [==============================] - 58s 453ms/step - loss: 1.4298 - acc: 0.5457 - val_loss: 1.9343 - val_acc: 0.4394\n",
      "Epoch 11/20\n",
      "129/128 [==============================] - 59s 457ms/step - loss: 1.3657 - acc: 0.5679 - val_loss: 1.9322 - val_acc: 0.4416\n",
      "Epoch 12/20\n",
      "129/128 [==============================] - 58s 453ms/step - loss: 1.3200 - acc: 0.5811 - val_loss: 2.0501 - val_acc: 0.4283\n",
      "Epoch 13/20\n",
      "129/128 [==============================] - 58s 451ms/step - loss: 1.2739 - acc: 0.5950 - val_loss: 1.9891 - val_acc: 0.4494\n",
      "Epoch 14/20\n",
      "129/128 [==============================] - 59s 461ms/step - loss: 1.1964 - acc: 0.6212 - val_loss: 2.1147 - val_acc: 0.4216\n",
      "Epoch 15/20\n",
      "129/128 [==============================] - 60s 461ms/step - loss: 1.1522 - acc: 0.6334 - val_loss: 2.1025 - val_acc: 0.4416\n",
      "Epoch 16/20\n",
      "129/128 [==============================] - 61s 469ms/step - loss: 1.1114 - acc: 0.6452 - val_loss: 2.1402 - val_acc: 0.4271\n",
      "Epoch 17/20\n",
      "129/128 [==============================] - 59s 458ms/step - loss: 1.0582 - acc: 0.6648 - val_loss: 2.3295 - val_acc: 0.3938\n",
      "Epoch 18/20\n",
      "129/128 [==============================] - 60s 462ms/step - loss: 1.0119 - acc: 0.6813 - val_loss: 2.0985 - val_acc: 0.4561\n",
      "Epoch 19/20\n",
      "129/128 [==============================] - 62s 479ms/step - loss: 0.9747 - acc: 0.6930 - val_loss: 2.1142 - val_acc: 0.4549\n",
      "Epoch 20/20\n",
      "129/128 [==============================] - 61s 472ms/step - loss: 0.9407 - acc: 0.7023 - val_loss: 2.2576 - val_acc: 0.4416\n"
     ]
    },
    {
     "data": {
      "text/plain": [
       "<keras.callbacks.History at 0x7f93c4ea0e10>"
      ]
     },
     "execution_count": 100,
     "metadata": {},
     "output_type": "execute_result"
    }
   ],
   "source": [
    "classifier2.fit_generator(training_set,\n",
    "                         steps_per_epoch = 8198/64,\n",
    "                         epochs = 20,\n",
    "                         validation_data = test_set,\n",
    "                         validation_steps = 899/64)"
   ]
  },
  {
   "cell_type": "code",
   "execution_count": 102,
   "metadata": {},
   "outputs": [],
   "source": [
    "classifier2.save_weights(\"weightprojectpaint2.h5\")"
   ]
  },
  {
   "cell_type": "code",
   "execution_count": null,
   "metadata": {},
   "outputs": [],
   "source": [
    "classifier2.load_weights(\"weightprojectpaint2.h5\")"
   ]
  },
  {
   "cell_type": "markdown",
   "metadata": {},
   "source": [
    "## Model 3\n",
    "changing the optimizer RMS prop"
   ]
  },
  {
   "cell_type": "code",
   "execution_count": 41,
   "metadata": {},
   "outputs": [
    {
     "name": "stdout",
     "output_type": "stream",
     "text": [
      "Found 8198 images belonging to 18 classes.\n",
      "Found 899 images belonging to 18 classes.\n"
     ]
    }
   ],
   "source": [
    "from keras.preprocessing.image import ImageDataGenerator\n",
    "\n",
    "train_datagen = ImageDataGenerator(rescale = 1./255,\n",
    "                                   shear_range = 0.2,\n",
    "                                   zoom_range = 0.2,\n",
    "                                   horizontal_flip = True)\n",
    "\n",
    "test_datagen = ImageDataGenerator(rescale = 1./255)\n",
    "\n",
    "training_set = train_datagen.flow_from_directory('data/train/',\n",
    "                                                 target_size = (128, 128),\n",
    "                                                 batch_size = 32,\n",
    "                                                 class_mode = 'categorical')\n",
    "\n",
    "test_set = test_datagen.flow_from_directory('data/test/',\n",
    "                                            target_size = (128, 128),\n",
    "                                            batch_size = 32,\n",
    "                                            class_mode = 'categorical')"
   ]
  },
  {
   "cell_type": "code",
   "execution_count": 38,
   "metadata": {},
   "outputs": [],
   "source": [
    "from keras import optimizers\n",
    "\n",
    "classifier3 = Sequential()\n",
    "\n",
    "classifier3.add(Conv2D(32, (3, 3), input_shape = (128, 128, 3), activation = 'relu'))\n",
    "classifier3.add(MaxPooling2D(pool_size = (2, 2)))\n",
    "\n",
    "classifier3.add(Conv2D(32, (3, 3), activation = 'relu'))\n",
    "classifier3.add(MaxPooling2D(pool_size = (2, 2)))\n",
    "\n",
    "classifier3.add(Flatten())\n",
    "\n",
    "classifier3.add(Dense(units = 128, activation = 'relu'))\n",
    "classifier3.add(Dense(units = 18, activation = 'softmax'))\n",
    "\n",
    "opt = optimizers.RMSprop(lr=0.001, rho=0.9, epsilon=None, decay=0)\n",
    "\n",
    "classifier3.compile(optimizer = opt, loss = 'categorical_crossentropy', metrics = ['accuracy'])"
   ]
  },
  {
   "cell_type": "code",
   "execution_count": 39,
   "metadata": {},
   "outputs": [
    {
     "name": "stdout",
     "output_type": "stream",
     "text": [
      "Epoch 1/20\n",
      "257/256 [==============================] - 63s 244ms/step - loss: 2.5400 - acc: 0.2212 - val_loss: 2.1464 - val_acc: 0.3548\n",
      "Epoch 2/20\n",
      "257/256 [==============================] - 64s 250ms/step - loss: 2.1396 - acc: 0.3415 - val_loss: 2.5303 - val_acc: 0.3048\n",
      "Epoch 3/20\n",
      "257/256 [==============================] - 62s 239ms/step - loss: 1.9643 - acc: 0.3879 - val_loss: 1.9285 - val_acc: 0.4349\n",
      "Epoch 4/20\n",
      "257/256 [==============================] - 60s 235ms/step - loss: 1.8363 - acc: 0.4329 - val_loss: 2.2247 - val_acc: 0.3693\n",
      "Epoch 5/20\n",
      "257/256 [==============================] - 60s 234ms/step - loss: 1.7552 - acc: 0.4529 - val_loss: 2.2927 - val_acc: 0.3660\n",
      "Epoch 6/20\n",
      "257/256 [==============================] - 59s 229ms/step - loss: 1.6621 - acc: 0.4863 - val_loss: 2.1812 - val_acc: 0.3760\n",
      "Epoch 7/20\n",
      "257/256 [==============================] - 60s 232ms/step - loss: 1.5964 - acc: 0.5017 - val_loss: 1.9010 - val_acc: 0.4316\n",
      "Epoch 8/20\n",
      "257/256 [==============================] - 60s 234ms/step - loss: 1.5109 - acc: 0.5323 - val_loss: 2.2268 - val_acc: 0.4082\n",
      "Epoch 9/20\n",
      "257/256 [==============================] - 62s 240ms/step - loss: 1.4526 - acc: 0.5454 - val_loss: 1.9738 - val_acc: 0.4505\n",
      "Epoch 10/20\n",
      "257/256 [==============================] - 62s 241ms/step - loss: 1.4063 - acc: 0.5634 - val_loss: 2.1713 - val_acc: 0.4149\n",
      "Epoch 11/20\n",
      "257/256 [==============================] - 62s 241ms/step - loss: 1.3279 - acc: 0.5934 - val_loss: 2.7621 - val_acc: 0.3826\n",
      "Epoch 12/20\n",
      "257/256 [==============================] - 63s 247ms/step - loss: 1.3020 - acc: 0.5970 - val_loss: 3.0408 - val_acc: 0.3571\n",
      "Epoch 13/20\n",
      "257/256 [==============================] - 62s 241ms/step - loss: 1.2751 - acc: 0.6064 - val_loss: 2.1778 - val_acc: 0.4294\n",
      "Epoch 14/20\n",
      "257/256 [==============================] - 62s 243ms/step - loss: 1.1957 - acc: 0.6279 - val_loss: 2.8110 - val_acc: 0.3882\n",
      "Epoch 15/20\n",
      "257/256 [==============================] - 61s 237ms/step - loss: 1.1798 - acc: 0.6407 - val_loss: 2.3857 - val_acc: 0.4249\n",
      "Epoch 16/20\n",
      "257/256 [==============================] - 62s 241ms/step - loss: 1.1142 - acc: 0.6597 - val_loss: 2.2703 - val_acc: 0.4516\n",
      "Epoch 17/20\n",
      "257/256 [==============================] - 60s 233ms/step - loss: 1.1164 - acc: 0.6556 - val_loss: 2.4731 - val_acc: 0.4416\n",
      "Epoch 18/20\n",
      "257/256 [==============================] - 64s 247ms/step - loss: 1.0864 - acc: 0.6678 - val_loss: 2.6058 - val_acc: 0.4583\n",
      "Epoch 19/20\n",
      "257/256 [==============================] - 65s 252ms/step - loss: 1.0412 - acc: 0.6799 - val_loss: 2.6299 - val_acc: 0.4327\n",
      "Epoch 20/20\n",
      "257/256 [==============================] - 61s 238ms/step - loss: 1.0177 - acc: 0.6901 - val_loss: 3.3404 - val_acc: 0.3915\n"
     ]
    },
    {
     "data": {
      "text/plain": [
       "<keras.callbacks.History at 0x7fd16e8e94e0>"
      ]
     },
     "execution_count": 39,
     "metadata": {},
     "output_type": "execute_result"
    }
   ],
   "source": [
    "classifier3.fit_generator(training_set,\n",
    "                         steps_per_epoch = 8198/32,\n",
    "                         epochs = 20,\n",
    "                         validation_data = test_set,\n",
    "                         validation_steps = 899/32)"
   ]
  },
  {
   "cell_type": "code",
   "execution_count": 29,
   "metadata": {},
   "outputs": [],
   "source": [
    "classifier3.save_weights(\"weightprojectpaint3.h5\")"
   ]
  },
  {
   "cell_type": "markdown",
   "metadata": {},
   "source": [
    "## Model 4\n",
    "using SGD optimizer"
   ]
  },
  {
   "cell_type": "code",
   "execution_count": 25,
   "metadata": {},
   "outputs": [],
   "source": [
    "from keras import optimizers\n",
    "\n",
    "# Initialising the CNN\n",
    "classifier4 = Sequential()\n",
    "# Step 1 - Convolution\n",
    "classifier4.add(Conv2D(32, (3, 3), input_shape = (128, 128, 3), activation = 'relu'))\n",
    "# Step 2 - Pooling\n",
    "classifier4.add(MaxPooling2D(pool_size = (2, 2)))\n",
    "# Adding a second convolutional layer\n",
    "classifier4.add(Conv2D(32, (3, 3), activation = 'relu'))\n",
    "classifier4.add(MaxPooling2D(pool_size = (2, 2)))\n",
    "# Step 3 - Flattening\n",
    "classifier4.add(Flatten())\n",
    "# Step 4 - Full connection\n",
    "classifier4.add(Dense(units = 128, activation = 'relu'))\n",
    "classifier4.add(Dense(units = 18, activation = 'softmax'))\n",
    "# Compiling the CNN\n",
    "classifier4.compile(optimizer=optimizers.SGD(lr=0.0001, momentum=0.9),\n",
    "                    loss='categorical_crossentropy', metrics = ['accuracy'])"
   ]
  },
  {
   "cell_type": "code",
   "execution_count": 28,
   "metadata": {},
   "outputs": [],
   "source": [
    "classifier4.save_weights(\"weightprojectpaint4.h5\")"
   ]
  },
  {
   "cell_type": "code",
   "execution_count": 26,
   "metadata": {},
   "outputs": [],
   "source": [
    "classifier4.load_weights(\"weightprojectpaint4.h5\")"
   ]
  },
  {
   "cell_type": "code",
   "execution_count": 27,
   "metadata": {},
   "outputs": [
    {
     "name": "stdout",
     "output_type": "stream",
     "text": [
      "Epoch 1/10\n",
      "257/256 [==============================] - 67s 262ms/step - loss: 1.3254 - acc: 0.5917 - val_loss: 1.9573 - val_acc: 0.4249\n",
      "Epoch 2/10\n",
      "257/256 [==============================] - 67s 263ms/step - loss: 1.3030 - acc: 0.5983 - val_loss: 1.9239 - val_acc: 0.4249\n",
      "Epoch 3/10\n",
      "257/256 [==============================] - 63s 245ms/step - loss: 1.3192 - acc: 0.5918 - val_loss: 1.9698 - val_acc: 0.4227\n",
      "Epoch 4/10\n",
      "257/256 [==============================] - 61s 239ms/step - loss: 1.3103 - acc: 0.5958 - val_loss: 1.8429 - val_acc: 0.4516\n",
      "Epoch 5/10\n",
      "257/256 [==============================] - 60s 234ms/step - loss: 1.3114 - acc: 0.5895 - val_loss: 1.9498 - val_acc: 0.4327\n",
      "Epoch 6/10\n",
      "257/256 [==============================] - 60s 235ms/step - loss: 1.3188 - acc: 0.5891 - val_loss: 2.0061 - val_acc: 0.4260\n",
      "Epoch 7/10\n",
      "257/256 [==============================] - 57s 224ms/step - loss: 1.2998 - acc: 0.6040 - val_loss: 1.9229 - val_acc: 0.4205\n",
      "Epoch 8/10\n",
      "257/256 [==============================] - 62s 240ms/step - loss: 1.3095 - acc: 0.5946 - val_loss: 1.8995 - val_acc: 0.4349\n",
      "Epoch 9/10\n",
      "257/256 [==============================] - 66s 257ms/step - loss: 1.3179 - acc: 0.5897 - val_loss: 1.9588 - val_acc: 0.4383\n",
      "Epoch 10/10\n",
      "257/256 [==============================] - 62s 240ms/step - loss: 1.3039 - acc: 0.5924 - val_loss: 1.8421 - val_acc: 0.4360\n"
     ]
    },
    {
     "data": {
      "text/plain": [
       "<keras.callbacks.History at 0x7fd16fe803c8>"
      ]
     },
     "execution_count": 27,
     "metadata": {},
     "output_type": "execute_result"
    }
   ],
   "source": [
    "classifier4.fit_generator(training_set,\n",
    "                         steps_per_epoch = 8198/32,\n",
    "                         epochs = 10,\n",
    "                         validation_data = test_set,\n",
    "                         validation_steps = 899/32)"
   ]
  },
  {
   "cell_type": "markdown",
   "metadata": {},
   "source": [
    "# Testing the model"
   ]
  },
  {
   "cell_type": "code",
   "execution_count": 44,
   "metadata": {},
   "outputs": [
    {
     "name": "stdout",
     "output_type": "stream",
     "text": [
      "<class 'PIL.JpegImagePlugin.JpegImageFile'>\n",
      "<class 'numpy.ndarray'>\n",
      "(321, 256, 3)\n"
     ]
    },
    {
     "data": {
      "text/plain": [
       "<matplotlib.image.AxesImage at 0x7f3cadaff908>"
      ]
     },
     "execution_count": 44,
     "metadata": {},
     "output_type": "execute_result"
    },
    {
     "data": {
      "image/png": "[encoded data removed]",
      "text/plain": [
       "<Figure size 432x288 with 1 Axes>"
      ]
     },
     "metadata": {
      "needs_background": "light"
     },
     "output_type": "display_data"
    }
   ],
   "source": [
    "%matplotlib inline\n",
    "from keras.preprocessing import image\n",
    "\n",
    "import matplotlib.pyplot as plt\n",
    "import numpy as np\n",
    "\n",
    "img_path = \"/home/g3ida/Desktop/data/other/pierre-auguste-renoir/218190.jpg\"\n",
    "img = image.load_img(img_path)\n",
    "print(type(img))\n",
    "\n",
    "x = image.img_to_array(img)\n",
    "x = np.array(x) / 255.\n",
    "\n",
    "plt.imshow(x)"
   ]
  },
  {
   "cell_type": "code",
   "execution_count": 45,
   "metadata": {},
   "outputs": [
    {
     "name": "stdout",
     "output_type": "stream",
     "text": [
      "{'camille-pissarro': 0, 'childe-hassam': 1, 'claude-monet': 2, 'edgar-degas': 3, 'eugene-boudin': 4, 'henri-matisse': 5, 'ilya-repin': 6, 'ivan-aivazovsky': 7, 'john-singer-sargent': 8, 'martiros-sarian': 9, 'nicholas-roerich': 10, 'pablo-picasso': 11, 'paul-cezanne': 12, 'pierre-auguste-renoir': 13, 'pyotr-konchalovsky': 14, 'rembrandt': 15, 'salvador-dali': 16, 'vincent-van-gogh': 17}\n",
      "[[2.8633025e-07 2.8599297e-07 2.6988400e-09 2.8435250e-03 2.0317429e-17\n",
      "  4.9964246e-08 8.6730272e-03 1.7004186e-15 1.8205434e-03 2.2687217e-10\n",
      "  4.7800050e-08 2.6023469e-07 2.4913595e-04 9.8634422e-01 1.6556381e-08\n",
      "  6.8393507e-05 1.1570785e-09 2.1548962e-07]]\n"
     ]
    }
   ],
   "source": [
    "import numpy as np\n",
    "from keras.preprocessing import image\n",
    "test_image = image.load_img(img_path, target_size = (128, 128))\n",
    "test_image = image.img_to_array(test_image)\n",
    "test_image = np.expand_dims(test_image, axis = 0)\n",
    "test_image = test_image / 255.\n",
    "result = classifier3.predict(test_image)\n",
    "print(training_set.class_indices)\n",
    "print(result)\n"
   ]
  },
  {
   "cell_type": "code",
   "execution_count": 46,
   "metadata": {},
   "outputs": [
    {
     "name": "stdout",
     "output_type": "stream",
     "text": [
      "13\n"
     ]
    }
   ],
   "source": [
    "print(np.argmax(result[0]))"
   ]
  },
  {
   "cell_type": "code",
   "execution_count": 47,
   "metadata": {},
   "outputs": [
    {
     "name": "stdout",
     "output_type": "stream",
     "text": [
      "98.63 pierre-auguste-renoir\n",
      "0.87 ilya-repin\n",
      "0.28 edgar-degas\n",
      "0.18 john-singer-sargent\n",
      "0.02 paul-cezanne\n",
      "0.01 rembrandt\n",
      "0.00 camille-pissarro\n",
      "0.00 childe-hassam\n",
      "0.00 pablo-picasso\n",
      "0.00 vincent-van-gogh\n",
      "0.00 henri-matisse\n",
      "0.00 nicholas-roerich\n",
      "0.00 pyotr-konchalovsky\n",
      "0.00 claude-monet\n",
      "0.00 salvador-dali\n",
      "0.00 martiros-sarian\n",
      "0.00 ivan-aivazovsky\n",
      "0.00 eugene-boudin\n"
     ]
    }
   ],
   "source": [
    "def sortSecond(val): \n",
    "    return val[1]\n",
    "\n",
    "l = [(key, result[0][val]*100) for key, val in training_set.class_indices.items()]\n",
    "l.sort(key = sortSecond, reverse = True)\n",
    "\n",
    "l\n",
    "for (a,b) in l:\n",
    "    print(\"{0:.2f}\".format(b), a)"
   ]
  }
 ],
 "metadata": {
  "kernelspec": {
   "display_name": "Python 3",
   "language": "python",
   "name": "python3"
  },
  "language_info": {
   "codemirror_mode": {
    "name": "ipython",
    "version": 3
   },
   "file_extension": ".py",
   "mimetype": "text/x-python",
   "name": "python",
   "nbconvert_exporter": "python",
   "pygments_lexer": "ipython3",
   "version": "3.6.8"
  }
 },
 "nbformat": 4,
 "nbformat_minor": 2
}
